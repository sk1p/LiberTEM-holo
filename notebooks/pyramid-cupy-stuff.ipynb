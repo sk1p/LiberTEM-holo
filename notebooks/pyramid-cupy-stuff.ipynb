{
 "cells": [
  {
   "cell_type": "code",
   "execution_count": 1,
   "metadata": {},
   "outputs": [],
   "source": [
    "%load_ext autoreload"
   ]
  },
  {
   "cell_type": "code",
   "execution_count": 2,
   "metadata": {},
   "outputs": [],
   "source": [
    "%load_ext line_profiler"
   ]
  },
  {
   "cell_type": "code",
   "execution_count": 3,
   "metadata": {},
   "outputs": [],
   "source": [
    "%autoreload 2"
   ]
  },
  {
   "cell_type": "code",
   "execution_count": 4,
   "metadata": {},
   "outputs": [],
   "source": [
    "import sys"
   ]
  },
  {
   "cell_type": "code",
   "execution_count": 5,
   "metadata": {},
   "outputs": [],
   "source": [
    "import cupy as cp"
   ]
  },
  {
   "cell_type": "code",
   "execution_count": 6,
   "metadata": {},
   "outputs": [],
   "source": [
    "import cupyx.scipy.sparse as cpsparse"
   ]
  },
  {
   "cell_type": "code",
   "execution_count": 7,
   "metadata": {},
   "outputs": [],
   "source": [
    "import pyramid as pr\n",
    "import numpy as np"
   ]
  },
  {
   "cell_type": "code",
   "execution_count": null,
   "metadata": {},
   "outputs": [],
   "source": [
    "pr"
   ]
  },
  {
   "cell_type": "code",
   "execution_count": null,
   "metadata": {},
   "outputs": [],
   "source": [
    "%pdb on"
   ]
  },
  {
   "cell_type": "code",
   "execution_count": 8,
   "metadata": {},
   "outputs": [],
   "source": [
    "dim = (55,73,73)\n",
    "dim_uv = (128, 128)\n",
    "anglelist = (0, -28, -44, -50, -54, -58, -61, -65)\n",
    "angles = np.deg2rad(anglelist)\n",
    "num_angle = len(anglelist)\n",
    "projectors = []\n",
    "for angle in angles:\n",
    "    projectors.append(pr.XTiltProjector(dim, angle, dim_uv))"
   ]
  },
  {
   "cell_type": "code",
   "execution_count": 9,
   "metadata": {},
   "outputs": [],
   "source": [
    "mag = np.random.randn(*(dim + (3,)))"
   ]
  },
  {
   "cell_type": "code",
   "execution_count": 10,
   "metadata": {},
   "outputs": [
    {
     "data": {
      "text/plain": [
       "(55, 73, 73, 3)"
      ]
     },
     "execution_count": 10,
     "metadata": {},
     "output_type": "execute_result"
    }
   ],
   "source": [
    "mag.shape"
   ]
  },
  {
   "cell_type": "code",
   "execution_count": 11,
   "metadata": {},
   "outputs": [],
   "source": [
    "x_mag, y_mag, z_mag = mag[..., 2], mag[..., 1], mag[..., 0]"
   ]
  },
  {
   "cell_type": "code",
   "execution_count": 12,
   "metadata": {},
   "outputs": [
    {
     "data": {
      "text/plain": [
       "[(128, 128),\n",
       " (128, 128),\n",
       " (128, 128),\n",
       " (128, 128),\n",
       " (128, 128),\n",
       " (128, 128),\n",
       " (128, 128),\n",
       " (128, 128)]"
      ]
     },
     "execution_count": 12,
     "metadata": {},
     "output_type": "execute_result"
    }
   ],
   "source": [
    "[p.dim_uv for p in projectors]"
   ]
  },
  {
   "cell_type": "code",
   "execution_count": 13,
   "metadata": {},
   "outputs": [],
   "source": [
    "magdata = pr.VectorData(a=2.0,field=cp.asarray([x_mag, y_mag, z_mag]))"
   ]
  },
  {
   "cell_type": "code",
   "execution_count": 14,
   "metadata": {},
   "outputs": [
    {
     "data": {
      "text/plain": [
       "(128, 128)"
      ]
     },
     "execution_count": 14,
     "metadata": {},
     "output_type": "execute_result"
    }
   ],
   "source": [
    "projectors[0].dim_uv"
   ]
  },
  {
   "cell_type": "code",
   "execution_count": 15,
   "metadata": {},
   "outputs": [
    {
     "data": {
      "text/plain": [
       "(array(255), array(255))"
      ]
     },
     "execution_count": 15,
     "metadata": {},
     "output_type": "execute_result"
    }
   ],
   "source": [
    "tuple(2 * cp.array((128, 128)) - 1)"
   ]
  },
  {
   "cell_type": "code",
   "execution_count": 16,
   "metadata": {
    "scrolled": false
   },
   "outputs": [],
   "source": [
    "kernel = pr.Kernel(magdata.a, projectors[0].dim_uv, b_0=0.483)"
   ]
  },
  {
   "cell_type": "code",
   "execution_count": 26,
   "metadata": {},
   "outputs": [],
   "source": [
    "def run_proj_map():\n",
    "    for k in range(num_angle):\n",
    "        mag_proj = projectors[k](magdata)\n",
    "        phasemap = pr.PhaseMapperRDFC(kernel)(mag_proj)\n",
    "        result = phasemap.phase\n",
    "    return result"
   ]
  },
  {
   "cell_type": "code",
   "execution_count": 31,
   "metadata": {},
   "outputs": [
    {
     "name": "stdout",
     "output_type": "stream",
     "text": [
      "23.8 ms ± 3.85 ms per loop (mean ± std. dev. of 7 runs, 10 loops each)\n"
     ]
    }
   ],
   "source": [
    "%%timeit\n",
    "run_proj_map()"
   ]
  },
  {
   "cell_type": "code",
   "execution_count": null,
   "metadata": {},
   "outputs": [],
   "source": [
    "result"
   ]
  },
  {
   "cell_type": "code",
   "execution_count": null,
   "metadata": {},
   "outputs": [],
   "source": [
    "%lprun -f pr.XTiltProjector._vector_field_projection run_proj_map()"
   ]
  },
  {
   "cell_type": "code",
   "execution_count": null,
   "metadata": {},
   "outputs": [],
   "source": [
    "%%timeit\n",
    "run_proj_map()"
   ]
  },
  {
   "cell_type": "code",
   "execution_count": null,
   "metadata": {},
   "outputs": [],
   "source": [
    "# projection for 8 angles: 47 ms ± 1.53 ms per loop (mean ± std. dev. of 7 runs, 10 loops each)\n",
    "# total: 86.4 ms ± 1.15 ms per loop (mean ± std. dev. of 7 runs, 10 loops each)\n",
    "# pulling the kernel out of the loop: 69.1 ms ± 1.36 ms per loop (mean ± std. dev. of 7 runs, 10 loops each)"
   ]
  },
  {
   "cell_type": "code",
   "execution_count": null,
   "metadata": {},
   "outputs": [],
   "source": [
    "projectors[0].weight"
   ]
  },
  {
   "cell_type": "code",
   "execution_count": null,
   "metadata": {},
   "outputs": [],
   "source": [
    "projectors[0].size_2d"
   ]
  },
  {
   "cell_type": "code",
   "execution_count": null,
   "metadata": {},
   "outputs": [],
   "source": [
    "magdata.field_vec"
   ]
  },
  {
   "cell_type": "code",
   "execution_count": 18,
   "metadata": {},
   "outputs": [],
   "source": [
    "def _vector_field_projection(weight, vector, size_2d, coeff):\n",
    "    result = np.zeros(2 * size_2d, dtype=vector.dtype)\n",
    "    # Go over all possible component projections (z, y, x) to (u, v):\n",
    "    vec_x, vec_y, vec_z = np.split(vector, 3)\n",
    "    vec_x_weighted = weight.dot(vec_x)\n",
    "    vec_y_weighted = weight.dot(vec_y)\n",
    "    vec_z_weighted = weight.dot(vec_z)\n",
    "    slice_u = slice(0, size_2d)\n",
    "    slice_v = slice(size_2d, 2 * size_2d)\n",
    "    if coeff[0][0] != 0:  # x to u\n",
    "        result[slice_u] += coeff[0][0] * vec_x_weighted\n",
    "    if coeff[0][1] != 0:  # y to u\n",
    "        result[slice_u] += coeff[0][1] * vec_y_weighted\n",
    "    if coeff[0][2] != 0:  # z to u\n",
    "        result[slice_u] += coeff[0][2] * vec_z_weighted\n",
    "    if coeff[1][0] != 0:  # x to v\n",
    "        result[slice_v] += coeff[1][0] * vec_x_weighted\n",
    "    if coeff[1][1] != 0:  # y to v\n",
    "        result[slice_v] += coeff[1][1] * vec_y_weighted\n",
    "    if coeff[1][2] != 0:  # z to v\n",
    "        result[slice_v] += coeff[1][2] * vec_z_weighted\n",
    "    return result"
   ]
  },
  {
   "cell_type": "code",
   "execution_count": 19,
   "metadata": {},
   "outputs": [
    {
     "data": {
      "text/plain": [
       "<16384x293095 sparse matrix of type '<class 'numpy.float64'>'\n",
       "\twith 586190 stored elements in Compressed Sparse Row format>"
      ]
     },
     "execution_count": 19,
     "metadata": {},
     "output_type": "execute_result"
    }
   ],
   "source": [
    "projectors[0].weight.get()"
   ]
  },
  {
   "cell_type": "code",
   "execution_count": 20,
   "metadata": {},
   "outputs": [
    {
     "name": "stdout",
     "output_type": "stream",
     "text": [
      "85.4 ms ± 2.46 ms per loop (mean ± std. dev. of 7 runs, 10 loops each)\n"
     ]
    }
   ],
   "source": [
    "%%timeit\n",
    "for i in range(8):\n",
    "    res_ = _vector_field_projection(projectors[0].weight.get(), cp.asnumpy(magdata.field_vec), projectors[0].size_2d, cp.asnumpy(projectors[0].coeff))"
   ]
  },
  {
   "cell_type": "code",
   "execution_count": null,
   "metadata": {},
   "outputs": [],
   "source": [
    "def _vector_field_projection_cp(weight, vector, size_2d, coeff):\n",
    "    result = cp.zeros(2 * size_2d, dtype=vector.dtype)\n",
    "    # Go over all possible component projections (z, y, x) to (u, v):\n",
    "    vec_x, vec_y, vec_z = np.split(vector, 3)\n",
    "    vec_x_weighted = weight.dot(vec_x)\n",
    "    vec_y_weighted = weight.dot(vec_y)\n",
    "    vec_z_weighted = weight.dot(vec_z)\n",
    "    slice_u = slice(0, size_2d)\n",
    "    slice_v = slice(size_2d, 2 * size_2d)\n",
    "    if coeff[0][0] != 0:  # x to u\n",
    "        result[slice_u] += coeff[0][0] * vec_x_weighted\n",
    "    if coeff[0][1] != 0:  # y to u\n",
    "        result[slice_u] += coeff[0][1] * vec_y_weighted\n",
    "    if coeff[0][2] != 0:  # z to u\n",
    "        result[slice_u] += coeff[0][2] * vec_z_weighted\n",
    "    if coeff[1][0] != 0:  # x to v\n",
    "        result[slice_v] += coeff[1][0] * vec_x_weighted\n",
    "    if coeff[1][1] != 0:  # y to v\n",
    "        result[slice_v] += coeff[1][1] * vec_y_weighted\n",
    "    if coeff[1][2] != 0:  # z to v\n",
    "        result[slice_v] += coeff[1][2] * vec_z_weighted\n",
    "    return result"
   ]
  },
  {
   "cell_type": "code",
   "execution_count": 21,
   "metadata": {},
   "outputs": [],
   "source": [
    "def _vector_field_projection_cp(weight, vector, size_2d, coeff):\n",
    "    result = cp.zeros(2 * size_2d, dtype=vector.dtype)\n",
    "    # Go over all possible component projections (z, y, x) to (u, v):\n",
    "    vec_x, vec_y, vec_z = np.split(vector, 3)\n",
    "    vec_x_weighted = weight.dot(vec_x)\n",
    "    vec_y_weighted = weight.dot(vec_y)\n",
    "    vec_z_weighted = weight.dot(vec_z)\n",
    "    slice_u = slice(0, size_2d)\n",
    "    slice_v = slice(size_2d, 2 * size_2d)\n",
    "    if coeff[0][0] != 0:  # x to u\n",
    "        result[slice_u] += coeff[0][0] * vec_x_weighted\n",
    "    if coeff[0][1] != 0:  # y to u\n",
    "        result[slice_u] += coeff[0][1] * vec_y_weighted\n",
    "    if coeff[0][2] != 0:  # z to u\n",
    "        result[slice_u] += coeff[0][2] * vec_z_weighted\n",
    "    if coeff[1][0] != 0:  # x to v\n",
    "        result[slice_v] += coeff[1][0] * vec_x_weighted\n",
    "    if coeff[1][1] != 0:  # y to v\n",
    "        result[slice_v] += coeff[1][1] * vec_y_weighted\n",
    "    if coeff[1][2] != 0:  # z to v\n",
    "        result[slice_v] += coeff[1][2] * vec_z_weighted\n",
    "    return result"
   ]
  },
  {
   "cell_type": "code",
   "execution_count": 22,
   "metadata": {},
   "outputs": [],
   "source": [
    "import cupyx.scipy.sparse as cpsparse"
   ]
  },
  {
   "cell_type": "code",
   "execution_count": 23,
   "metadata": {},
   "outputs": [],
   "source": [
    "weight_d = cpsparse.csr_matrix(cpsparse.csr_matrix(projectors[0].weight))"
   ]
  },
  {
   "cell_type": "code",
   "execution_count": 24,
   "metadata": {},
   "outputs": [],
   "source": [
    "vector_d = cp.array(magdata.field_vec)"
   ]
  },
  {
   "cell_type": "code",
   "execution_count": 25,
   "metadata": {},
   "outputs": [
    {
     "name": "stdout",
     "output_type": "stream",
     "text": [
      "6.07 ms ± 530 µs per loop (mean ± std. dev. of 7 runs, 100 loops each)\n"
     ]
    }
   ],
   "source": [
    "%%timeit\n",
    "for i in range(8):\n",
    "    res = _vector_field_projection_cp(weight_d, vector_d, projectors[0].size_2d, projectors[0].coeff)\n",
    "# 3.77 ms ± 18.6 µs per loop (mean ± std. dev. of 7 runs, 100 loops each)"
   ]
  },
  {
   "cell_type": "code",
   "execution_count": null,
   "metadata": {},
   "outputs": [],
   "source": [
    "%lprun -f _vector_field_projection_cp _vector_field_projection_cp(weight_d, vector_d, projectors[0].size_2d, projectors[0].coeff)"
   ]
  },
  {
   "cell_type": "code",
   "execution_count": null,
   "metadata": {},
   "outputs": [],
   "source": [
    "weight_d.shape"
   ]
  },
  {
   "cell_type": "code",
   "execution_count": null,
   "metadata": {},
   "outputs": [],
   "source": []
  }
 ],
 "metadata": {
  "@webio": {
   "lastCommId": null,
   "lastKernelId": null
  },
  "kernelspec": {
   "display_name": "Python 3.8.5 64-bit ('vfml': venv)",
   "language": "python",
   "name": "python38564bitvfmlvenvccb5a8788cfe4d00a167cc86e46d5c9c"
  },
  "language_info": {
   "codemirror_mode": {
    "name": "ipython",
    "version": 3
   },
   "file_extension": ".py",
   "mimetype": "text/x-python",
   "name": "python",
   "nbconvert_exporter": "python",
   "pygments_lexer": "ipython3",
   "version": "3.7.4"
  }
 },
 "nbformat": 4,
 "nbformat_minor": 2
}
